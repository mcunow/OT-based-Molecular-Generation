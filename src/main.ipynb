{
 "cells": [
  {
   "cell_type": "code",
   "execution_count": 1,
   "metadata": {},
   "outputs": [],
   "source": [
    "import matplotlib.pylab as pl\n",
    "import matplotlib.pyplot as plt\n",
    "\n",
    "import gnn\n",
    "from rdkit import Chem\n",
    "from rdkit.Chem import Draw\n",
    "import utils\n",
    "import util_metrics\n",
    "\n",
    "import torch\n",
    "import torch.nn as nn\n",
    "import torch.nn.functional as F\n",
    "\n",
    "import gnn_decoder\n",
    "from torch_geometric.data import Data,Batch\n",
    "from torch_geometric.utils import to_dense_adj,to_dense_batch,get_embeddings\n",
    "from torch.utils.data import random_split\n",
    "from torch_geometric.loader import DataLoader\n",
    "import vgae\n",
    "import copy\n",
    "import visualize\n",
    "import wandb"
   ]
  },
  {
   "cell_type": "markdown",
   "metadata": {},
   "source": [
    "Import canonical SMILES. Transform to dataset."
   ]
  },
  {
   "cell_type": "code",
   "execution_count": null,
   "metadata": {},
   "outputs": [],
   "source": [
    "import pickle\n",
    "file_path='../data/QM9_canonical.pkl'\n",
    "with open(file_path, 'rb') as file:\n",
    "    dataset_smiles = pickle.load(file)\n",
    "\n",
    "dataset=utils.smiles2data_edge_index(dataset_smiles)\n",
    "dataset=utils.filter_hydrogen(dataset)"
   ]
  },
  {
   "cell_type": "markdown",
   "metadata": {},
   "source": [
    "Set hyperparameters."
   ]
  },
  {
   "cell_type": "code",
   "execution_count": null,
   "metadata": {},
   "outputs": [],
   "source": [
    "wandb.login(key=\"your-wandb-key-here\")\n",
    "wandb.init(\n",
    "    project=\"Graph Generation\",\n",
    "    config={\n",
    "        \"epochs\": 20,\n",
    "        \"batch_size\": 32,\n",
    "        \"encoder_norm\":\"layer\",\n",
    "        \"lr\": 1e-4,\n",
    "        \"dropout\": 0.1,\n",
    "        \"sample_size\":100,\n",
    "        \"loss\":\"MSE\",\n",
    "        \"eval\":False,\n",
    "        \"hard\":True,\n",
    "        \"soft\":True,\n",
    "        \"dataset_size\": 129428,\n",
    "        \"latent_dim\": 30\n",
    "        })"
   ]
  },
  {
   "cell_type": "markdown",
   "metadata": {},
   "source": [
    "Initialize model."
   ]
  },
  {
   "cell_type": "code",
   "execution_count": null,
   "metadata": {},
   "outputs": [],
   "source": [
    "latent_dims=wandb.config[\"latent_dim\"]\n",
    "edge_dim=4\n",
    "node_dim=4\n",
    "train_loader=DataLoader(dataset,wandb.config[\"batch_size\"],shuffle=True)\n",
    "device = torch.device(\"cuda\" if torch.cuda.is_available() else \"cpu\")\n",
    "encoder=gnn.GINE(in_channels=node_dim,hidden_channels=[16,32,64,128],out_channels=128,norm=wandb.config[\"encoder_norm\"],num_layers=4,\n",
    "                  act=\"leakyrelu\",edge_dim=4,dropout=0.1,add_self_loops=True,affine=False).to(device)\n",
    "decoder=gnn_decoder.Generator_Decoder(latent_dim=latent_dims,node_dim=5,edge_dim=5,num_layers=4).to(device)\n",
    "vgae_model=vgae.VGAE(encoder=encoder,decoder=decoder,latent_dims=latent_dims,embedding=\"graph\",eval=wandb.config[\"eval\"]).to(device)\n",
    "vgae_model.set_encoder()"
   ]
  },
  {
   "cell_type": "markdown",
   "metadata": {},
   "source": [
    "Train model for given configuration. Log and evaluate model."
   ]
  },
  {
   "cell_type": "code",
   "execution_count": null,
   "metadata": {},
   "outputs": [],
   "source": [
    "vgae_model.train()\n",
    "optimizer = torch.optim.Adam(vgae_model.parameters(), lr=wandb.config[\"lr\"],weight_decay=1e-5)\n",
    "\n",
    "#for epoch in range(wandb.config[\"epochs\"]):\n",
    "for epoch in range(wandb.config[\"epochs\"]):\n",
    "    vgae_model.set_encoder()\n",
    "    for data in train_loader:\n",
    "      data = data.to(device)\n",
    "      optimizer.zero_grad()\n",
    "      data_rec,mu,logvar,_= vgae_model(data)\n",
    "      features,edges,ot_dists=vgae_model.sinkhorn_solver.soft_topk(data,data_rec,loss=wandb.config[\"loss\"],\n",
    "                                                                   hard=wandb.config[\"hard\"],scatter=True,soft=wandb.config[\"soft\"])\n",
    "      reconstruction_loss=features+edges\n",
    "      kl_loss=vgae_model.sinkhorn_solver.kl_loss(mu,logvar)\n",
    "      loss=reconstruction_loss+0.1*kl_loss\n",
    "      loss.backward()\n",
    "      optimizer.step()\n",
    "      #Log data and evaluate reconstruction quality\n",
    "      valid_rec,num_rec=util_metrics.evaluate_reconstruction(data,data_rec)\n",
    "      wandb.log({\"feature_loss\":features,\"edge_loss\":edges,\"reconstruction_loss\": reconstruction_loss,\n",
    "                  \"loss\": loss,\"ot_dist\":ot_dists,\"kl_loss\":kl_loss,\"valid_rec\":valid_rec,\"frac_rec\":num_rec})\n",
    "      optimizer.step()\n",
    "\n",
    "wandb.finish()\n"
   ]
  },
  {
   "cell_type": "markdown",
   "metadata": {},
   "source": [
    "Evaluate Model"
   ]
  },
  {
   "cell_type": "code",
   "execution_count": null,
   "metadata": {},
   "outputs": [],
   "source": [
    "vgae_model.eval()\n",
    "sample=vgae_model.sample(wandb.config[\"sample_size\"])    \n",
    "validity,unique,novelty,_=util_metrics.compute_metrics(sample,dataset_smiles)"
   ]
  },
  {
   "cell_type": "code",
   "execution_count": null,
   "metadata": {},
   "outputs": [],
   "source": [
    "PATH=\"YOUR/PATH/HERE\"\n",
    "torch.save(vgae_model.state_dict(), PATH)"
   ]
  },
  {
   "cell_type": "markdown",
   "metadata": {},
   "source": [
    "Generate Samples. Compute fraction of valid, unique, and novel molecules. Return SMILES representation of all novel SMILES.\n",
    "Plot generated molecules"
   ]
  },
  {
   "cell_type": "code",
   "execution_count": null,
   "metadata": {},
   "outputs": [],
   "source": [
    "vgae_model.eval()\n",
    "sample=vgae_model.sample(1000)\n",
    "validity,unique,novel,smiles_list=util_metrics.compute_metrics(sample,dataset_smiles)"
   ]
  },
  {
   "cell_type": "code",
   "execution_count": null,
   "metadata": {},
   "outputs": [],
   "source": [
    "from rdkit.Chem.Draw import IPythonConsole\n",
    "from rdkit.Chem import AllChem as Chem\n",
    "mol_list = [Chem.MolFromSmiles(smiles) for smiles in list(smiles_list)]\n",
    "Draw.MolsToGridImage(mol_list[:50], molsPerRow=10, subImgSize=(400,400),maxMols=100)"
   ]
  }
 ],
 "metadata": {
  "kernelspec": {
   "display_name": "Thesis",
   "language": "python",
   "name": "python3"
  },
  "language_info": {
   "codemirror_mode": {
    "name": "ipython",
    "version": 3
   },
   "file_extension": ".py",
   "mimetype": "text/x-python",
   "name": "python",
   "nbconvert_exporter": "python",
   "pygments_lexer": "ipython3",
   "version": "3.11.3"
  }
 },
 "nbformat": 4,
 "nbformat_minor": 2
}
